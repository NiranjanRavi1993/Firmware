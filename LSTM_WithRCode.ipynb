{
  "nbformat": 4,
  "nbformat_minor": 0,
  "metadata": {
    "colab": {
      "name": "LSTM_WithRCode.ipynb",
      "provenance": [],
      "collapsed_sections": [],
      "mount_file_id": "1gEGMwjzrzTxbYyKi98B2n39tU1vWdXTl",
      "authorship_tag": "ABX9TyOiJIxjLg6Kq2Ki38G1N5YI",
      "include_colab_link": true
    },
    "kernelspec": {
      "name": "python3",
      "display_name": "Python 3"
    },
    "accelerator": "GPU"
  },
  "cells": [
    {
      "cell_type": "markdown",
      "metadata": {
        "id": "view-in-github",
        "colab_type": "text"
      },
      "source": [
        "<a href=\"https://colab.research.google.com/github/NiranjanRavi1993/Firmware/blob/master/LSTM_WithRCode.ipynb\" target=\"_parent\"><img src=\"https://colab.research.google.com/assets/colab-badge.svg\" alt=\"Open In Colab\"/></a>"
      ]
    },
    {
      "cell_type": "code",
      "metadata": {
        "colab": {
          "base_uri": "https://localhost:8080/",
          "height": 287
        },
        "id": "azACipbkGuDX",
        "outputId": "260e0246-aab3-4b1b-e880-28f721aa42a6"
      },
      "source": [
        "import tensorflow as tf\r\n",
        "\r\n",
        "# Helper libraries\r\n",
        "import numpy as np\r\n",
        "import matplotlib.pyplot as plt\r\n",
        "import pandas as pd\r\n",
        "import matplotlib as mpl\r\n",
        "import matplotlib.pyplot as plt\r\n",
        "from sklearn.model_selection import train_test_split\r\n",
        "from keras.preprocessing.sequence import TimeseriesGenerator\r\n",
        "from sklearn.preprocessing import MinMaxScaler, StandardScaler\r\n",
        "import tensorflow as tf\r\n",
        "from tensorflow.keras import backend\r\n",
        "from math import ceil\r\n",
        "import keras\r\n",
        "import numpy as np\r\n",
        "import io \r\n",
        "from google.colab import files \r\n",
        "\r\n",
        "\r\n",
        "class TimeseriesGenerator(keras.utils.Sequence):\r\n",
        "    \"\"\"Utility class for generating batches of temporal data.\r\n",
        "\r\n",
        "    This class takes in a sequence of data-points gathered at\r\n",
        "    equal intervals, along with time series parameters such as\r\n",
        "    stride, length of history, etc., to produce batches for\r\n",
        "    training/validation.\r\n",
        "\r\n",
        "    # Arguments\r\n",
        "        data: Indexable generator (such as list or Numpy array)\r\n",
        "            containing consecutive data points (timesteps).\r\n",
        "            The data should be at 2D, and axis 0 is expected\r\n",
        "            to be the time dimension.\r\n",
        "        targets: Targets corresponding to timesteps in `data`.\r\n",
        "            It should have same length as `data`.\r\n",
        "        length: Length of the output sequences (in number of timesteps).\r\n",
        "        sampling_rate: Period between successive individual timesteps\r\n",
        "            `data[i]`, `data[i-r]`, ... `data[i - length]`\r\n",
        "            are used for create a sample sequence.\r\n",
        "        stride: Period between successive output sequences.\r\n",
        "            For stride `s`, consecutive output samples would\r\n",
        "            be centered around `data[i]`, `data[i+s]`, `data[i+2*s]`, etc.\r\n",
        "        start_index: Data points earlier than `start_index` will not be used\r\n",
        "            in the output sequences. This is useful to reserve part of the\r\n",
        "            data for test or validation.\r\n",
        "        end_index: Data points later than `end_index` will not be used\r\n",
        "            in the output sequences. This is useful to reserve part of the\r\n",
        "            data for test or validation.\r\n",
        "        shuffle: Whether to shuffle output samples,\r\n",
        "            or instead draw them in chronological order.\r\n",
        "        reverse: Boolean: if `true`, timesteps in each output sample will be\r\n",
        "            in reverse chronological order.\r\n",
        "        batch_size: Number of timeseries samples in each batch\r\n",
        "            (except maybe the last one).\r\n",
        "\r\n",
        "    # Returns\r\n",
        "        A [Sequence](/utils/#sequence) instance.\r\n",
        "\r\n",
        "    # Examples\r\n",
        "\r\n",
        "    ```python\r\n",
        "    from keras.preprocessing.sequence import TimeseriesGenerator\r\n",
        "    import numpy as np\r\n",
        "\r\n",
        "    data = np.array([[i] for i in range(50)])\r\n",
        "    targets = np.array([[i] for i in range(50)])\r\n",
        "\r\n",
        "    data_gen = TimeseriesGenerator(data, targets,\r\n",
        "                                   length=10, sampling_rate=2,\r\n",
        "                                   batch_size=2)\r\n",
        "    assert len(data_gen) == 20\r\n",
        "\r\n",
        "    batch_0 = data_gen[0]\r\n",
        "    x, y = batch_0\r\n",
        "    assert np.array_equal(x,\r\n",
        "                          np.array([[[0], [2], [4], [6], [8]],\r\n",
        "                                    [[1], [3], [5], [7], [9]]]))\r\n",
        "    assert np.array_equal(y,\r\n",
        "                          np.array([[10], [11]]))\r\n",
        "    ```\r\n",
        "    \"\"\"\r\n",
        "\r\n",
        "    def __init__(self, data, targets, length,\r\n",
        "                 sampling_rate=1,\r\n",
        "                 stride=1,\r\n",
        "                 start_index=0,\r\n",
        "                 end_index=None,\r\n",
        "                 shuffle=False,\r\n",
        "                 reverse=False,\r\n",
        "                 batch_size=128):\r\n",
        "        self.data = data\r\n",
        "        self.targets = targets\r\n",
        "        self.length = length\r\n",
        "        self.sampling_rate = sampling_rate\r\n",
        "        self.stride = stride\r\n",
        "        self.start_index = start_index + length\r\n",
        "        if end_index is None:\r\n",
        "            end_index = len(data) - 1\r\n",
        "        self.end_index = end_index\r\n",
        "        self.shuffle = shuffle\r\n",
        "        self.reverse = reverse\r\n",
        "        self.batch_size = batch_size\r\n",
        "\r\n",
        "        if self.start_index > self.end_index:\r\n",
        "            raise ValueError('`start_index+length=%i > end_index=%i` '\r\n",
        "                             'is disallowed, as no part of the sequence '\r\n",
        "                             'would be left to be used as current step.'\r\n",
        "                             % (self.start_index, self.end_index))\r\n",
        "\r\n",
        "    def __len__(self):\r\n",
        "        return (self.end_index - self.start_index +\r\n",
        "                self.batch_size * self.stride) // (self.batch_size * self.stride)\r\n",
        "\r\n",
        "    def _empty_batch(self, num_rows):\r\n",
        "        samples_shape = [num_rows, self.length // self.sampling_rate]\r\n",
        "        samples_shape.extend(self.data.shape[1:])\r\n",
        "        targets_shape = [num_rows]\r\n",
        "        targets_shape.extend(self.targets.shape[1:])\r\n",
        "        return np.empty(samples_shape), np.empty(targets_shape)\r\n",
        "\r\n",
        "    def __getitem__(self, index):\r\n",
        "        if self.shuffle:\r\n",
        "            rows = np.random.randint(\r\n",
        "                self.start_index, self.end_index + 1, size=self.batch_size)\r\n",
        "        else:\r\n",
        "            i = self.start_index + self.batch_size * self.stride * index\r\n",
        "            rows = np.arange(i, min(i + self.batch_size *\r\n",
        "                                    self.stride, self.end_index + 1), self.stride)\r\n",
        "        samples, targets = self._empty_batch(len(rows))\r\n",
        "        for j, row in enumerate(rows):\r\n",
        "            indices = range(rows[j] - self.length, rows[j], self.sampling_rate)\r\n",
        "            samples[j] = self.data[indices]\r\n",
        "            targets[j] = self.targets[rows[j]]\r\n",
        "        if self.reverse:\r\n",
        "            return samples[:, ::-1, ...], targets\r\n",
        "        return samples, targets\r\n",
        "\r\n",
        "print(tf.__version__)\r\n",
        "\r\n",
        "\r\n",
        "df = pd.read_csv('/content/drive/MyDrive/dfresultWithLocalrateMrbdrateCovidValues2020.csv')\r\n",
        "df.columns\r\n",
        "\r\n",
        "df = df.drop(['LocalRate', 'morbidtyValues'], axis = 1)\r\n",
        "df.head(15)\r\n",
        "\r\n",
        "from sklearn.preprocessing import MinMaxScaler\r\n",
        "scaler = MinMaxScaler()\r\n",
        "df[['EP_POV', 'EP_UNEMP', 'EP_PCI', 'EP_NOHSDP', 'EP_AGE65',\r\n",
        "       'EP_AGE17', 'EP_DISABL', 'EP_SNGPNT', 'EP_MINRTY', 'EP_LIMENG',\r\n",
        "       'EP_MUNIT', 'EP_MOBILE', 'EP_CROWD', 'EP_NOVEH', 'EP_GROUPQ',\r\n",
        "       'EP_UNINSUR', 'LST_Day', 'LST_Night', 'NL_Temp', 'NL_Humid ',\r\n",
        "       'NL_Pres ', 'NL_windu ', 'NL_Lr ', 'NL_Pe ']] = scaler.fit_transform(df[['EP_POV', 'EP_UNEMP', 'EP_PCI', 'EP_NOHSDP', 'EP_AGE65',\r\n",
        "       'EP_AGE17', 'EP_DISABL', 'EP_SNGPNT', 'EP_MINRTY', 'EP_LIMENG',\r\n",
        "       'EP_MUNIT', 'EP_MOBILE', 'EP_CROWD', 'EP_NOVEH', 'EP_GROUPQ',\r\n",
        "       'EP_UNINSUR', 'LST_Day', 'LST_Night', 'NL_Temp', 'NL_Humid ',\r\n",
        "       'NL_Pres ', 'NL_windu ', 'NL_Lr ', 'NL_Pe ']])\r\n",
        "df.head(3150)\r\n",
        "\r\n",
        "\r\n",
        "#df['Dates'] = pd.to_datetime(df['Dates'], infer_datetime_format=True)\r\n",
        "df = df.drop(['FIPS_Final'], axis=1) \r\n",
        "#df = df.drop(['Unnamed: 0'], axis=1)  \r\n",
        "print(\"Done\")\r\n",
        "print(df.shape) \r\n",
        "#some_values = [18097, 6037]\r\n",
        "\r\n",
        "#df_countySeparated = df.loc[df['Counties'].isin(some_values)]\r\n",
        "df_countySeparated = df\r\n",
        "df_countySeparated = df_countySeparated[['covidValues', 'EP_POV', 'EP_UNEMP', 'EP_PCI',\r\n",
        "       'EP_NOHSDP', 'EP_AGE65', 'EP_AGE17', 'EP_DISABL', 'EP_SNGPNT',\r\n",
        "       'EP_MINRTY', 'EP_LIMENG', 'EP_MUNIT', 'EP_MOBILE', 'EP_CROWD',\r\n",
        "       'EP_NOVEH', 'EP_GROUPQ', 'EP_UNINSUR', 'LST_Day', 'LST_Night',\r\n",
        "       'NL_Temp', 'NL_Humid ', 'NL_Pres ', 'NL_windu ', 'NL_Lr ', 'NL_Pe ']]\r\n",
        "print(df_countySeparated.columns)\r\n",
        "\r\n",
        "\r\n",
        "df_countySeparated.columns\r\n",
        "print(df_countySeparated.shape)\r\n",
        "\r\n",
        "#DMA\r\n",
        "#df_average7Days = df_countySeparated.groupby(np.arange(len(df_countySeparated))//2).mean()\r\n",
        "#print(df_average7Days.shape)\r\n",
        "#df_countySeparated = df_average7Days\r\n",
        "#print(df_countySeparated.shape)\r\n",
        "\r\n",
        "df_countySeparated['covidConfirmedCases_EWM'] = df['covidValues'].ewm(span=48, adjust=False).mean()\r\n",
        "#df_countySeparated['covidConfirmedCases_EWM'] = df['CovidValues']\r\n",
        "df_countySeparated = df_countySeparated[['covidConfirmedCases_EWM', 'EP_POV', 'EP_UNEMP', 'EP_PCI', 'EP_NOHSDP', 'EP_AGE65',\r\n",
        "       'EP_AGE17', 'EP_DISABL', 'EP_SNGPNT', 'EP_MINRTY', 'EP_LIMENG',\r\n",
        "       'EP_MUNIT', 'EP_MOBILE', 'EP_CROWD', 'EP_NOVEH', 'EP_GROUPQ',\r\n",
        "       'EP_UNINSUR', 'LST_Day', 'LST_Night', 'NL_Temp', 'NL_Humid ',\r\n",
        "       'NL_Pres ', 'NL_windu ', 'NL_Lr ', 'NL_Pe ']]\r\n",
        "df_countySeparated.columns\r\n",
        "\r\n",
        "data_scaled = scaler.fit_transform(df_countySeparated)\r\n",
        "data_scaled\r\n",
        "\r\n",
        "features = data_scaled\r\n",
        "target = data_scaled[:, 0]\r\n",
        "\r\n",
        "x_train, x_test, y_train, y_test = train_test_split(features, target, test_size = 0.3, random_state = 1, shuffle = False)\r\n",
        "x_train.shape\r\n",
        "x_test.shape\r\n",
        "batch_size = 128\r\n",
        "win_length = 7\r\n",
        "num_features = 27\r\n",
        "\r\n",
        "train_generator = TimeseriesGenerator(x_train, y_train, length = win_length, sampling_rate=1, batch_size=batch_size)\r\n",
        "test_generator =  TimeseriesGenerator(x_test,  y_test,   length = win_length, sampling_rate=1, batch_size=batch_size)\r\n",
        "\r\n",
        "print(train_generator[0][0].shape)\r\n",
        "print(\"DoneTillHere\")\r\n",
        "model = tf.keras.Sequential()\r\n",
        "\r\n",
        "model.add(tf.keras.layers.LSTM(128, input_shape=(win_length, num_features), \r\n",
        "    return_sequences=True))\r\n",
        "model.add(tf.keras.layers.LeakyReLU(alpha = 0.5))\r\n",
        "model.add(tf.keras.layers.LSTM(64, return_sequences = True))\r\n",
        "model.add(tf.keras.layers.LeakyReLU(alpha = 0.5))\r\n",
        "model.add(tf.keras.layers.Dropout(0.3))\r\n",
        "model.add(tf.keras.layers.LSTM(32, return_sequences = False))\r\n",
        "model.add(tf.keras.layers.Dropout(0.3))\r\n",
        "model.add(tf.keras.layers.Dense(1))\r\n",
        "\"\"\"\r\n",
        "model.add(tf.keras.layers.LSTM(256, input_shape=(win_length, num_features), \r\n",
        "    return_sequences=True))\r\n",
        "model.add(tf.keras.layers.LeakyReLU(alpha = 0.5))\r\n",
        "model.add(tf.keras.layers.LSTM(128, return_sequences = True))\r\n",
        "model.add(tf.keras.layers.LeakyReLU(alpha = 0.5))\r\n",
        "model.add(tf.keras.layers.LSTM(64, return_sequences = True))\r\n",
        "model.add(tf.keras.layers.LeakyReLU(alpha = 0.5))\r\n",
        "model.add(tf.keras.layers.Dropout(0.3))\r\n",
        "model.add(tf.keras.layers.LSTM(32, return_sequences = False))\r\n",
        "model.add(tf.keras.layers.Dropout(0.3))\r\n",
        "model.add(tf.keras.layers.Dense(1))\r\n",
        "\"\"\""
      ],
      "execution_count": 1,
      "outputs": [
        {
          "output_type": "stream",
          "text": [
            "2.4.1\n",
            "Done\n",
            "(34188, 25)\n",
            "Index(['covidValues', 'EP_POV', 'EP_UNEMP', 'EP_PCI', 'EP_NOHSDP', 'EP_AGE65',\n",
            "       'EP_AGE17', 'EP_DISABL', 'EP_SNGPNT', 'EP_MINRTY', 'EP_LIMENG',\n",
            "       'EP_MUNIT', 'EP_MOBILE', 'EP_CROWD', 'EP_NOVEH', 'EP_GROUPQ',\n",
            "       'EP_UNINSUR', 'LST_Day', 'LST_Night', 'NL_Temp', 'NL_Humid ',\n",
            "       'NL_Pres ', 'NL_windu ', 'NL_Lr ', 'NL_Pe '],\n",
            "      dtype='object')\n",
            "(34188, 25)\n",
            "(128, 7, 25)\n",
            "DoneTillHere\n"
          ],
          "name": "stdout"
        },
        {
          "output_type": "execute_result",
          "data": {
            "application/vnd.google.colaboratory.intrinsic+json": {
              "type": "string"
            },
            "text/plain": [
              "'\\nmodel.add(tf.keras.layers.LSTM(256, input_shape=(win_length, num_features), \\n    return_sequences=True))\\nmodel.add(tf.keras.layers.LeakyReLU(alpha = 0.5))\\nmodel.add(tf.keras.layers.LSTM(128, return_sequences = True))\\nmodel.add(tf.keras.layers.LeakyReLU(alpha = 0.5))\\nmodel.add(tf.keras.layers.LSTM(64, return_sequences = True))\\nmodel.add(tf.keras.layers.LeakyReLU(alpha = 0.5))\\nmodel.add(tf.keras.layers.Dropout(0.3))\\nmodel.add(tf.keras.layers.LSTM(32, return_sequences = False))\\nmodel.add(tf.keras.layers.Dropout(0.3))\\nmodel.add(tf.keras.layers.Dense(1))\\n'"
            ]
          },
          "metadata": {
            "tags": []
          },
          "execution_count": 1
        }
      ]
    },
    {
      "cell_type": "code",
      "metadata": {
        "id": "UFeVYqFTu8Kf",
        "colab": {
          "base_uri": "https://localhost:8080/"
        },
        "outputId": "4ac34677-095d-45a1-ab8c-7c731627a519"
      },
      "source": [
        "!pip install eli5\r\n",
        "import eli5\r\n",
        "from eli5.sklearn import PermutationImportance"
      ],
      "execution_count": 2,
      "outputs": [
        {
          "output_type": "stream",
          "text": [
            "Collecting eli5\n",
            "\u001b[?25l  Downloading https://files.pythonhosted.org/packages/d1/54/04cab6e1c0ae535bec93f795d8403fdf6caf66fa5a6512263202dbb14ea6/eli5-0.11.0-py2.py3-none-any.whl (106kB)\n",
            "\r\u001b[K     |███                             | 10kB 24.9MB/s eta 0:00:01\r\u001b[K     |██████▏                         | 20kB 29.9MB/s eta 0:00:01\r\u001b[K     |█████████▎                      | 30kB 22.0MB/s eta 0:00:01\r\u001b[K     |████████████▍                   | 40kB 20.4MB/s eta 0:00:01\r\u001b[K     |███████████████▌                | 51kB 21.4MB/s eta 0:00:01\r\u001b[K     |██████████████████▌             | 61kB 16.0MB/s eta 0:00:01\r\u001b[K     |█████████████████████▋          | 71kB 16.1MB/s eta 0:00:01\r\u001b[K     |████████████████████████▊       | 81kB 14.7MB/s eta 0:00:01\r\u001b[K     |███████████████████████████▉    | 92kB 15.5MB/s eta 0:00:01\r\u001b[K     |███████████████████████████████ | 102kB 16.1MB/s eta 0:00:01\r\u001b[K     |████████████████████████████████| 112kB 16.1MB/s \n",
            "\u001b[?25hRequirement already satisfied: tabulate>=0.7.7 in /usr/local/lib/python3.6/dist-packages (from eli5) (0.8.7)\n",
            "Requirement already satisfied: scipy in /usr/local/lib/python3.6/dist-packages (from eli5) (1.4.1)\n",
            "Requirement already satisfied: scikit-learn>=0.20 in /usr/local/lib/python3.6/dist-packages (from eli5) (0.22.2.post1)\n",
            "Requirement already satisfied: six in /usr/local/lib/python3.6/dist-packages (from eli5) (1.15.0)\n",
            "Requirement already satisfied: attrs>16.0.0 in /usr/local/lib/python3.6/dist-packages (from eli5) (20.3.0)\n",
            "Requirement already satisfied: numpy>=1.9.0 in /usr/local/lib/python3.6/dist-packages (from eli5) (1.19.5)\n",
            "Requirement already satisfied: jinja2 in /usr/local/lib/python3.6/dist-packages (from eli5) (2.11.2)\n",
            "Requirement already satisfied: graphviz in /usr/local/lib/python3.6/dist-packages (from eli5) (0.10.1)\n",
            "Requirement already satisfied: joblib>=0.11 in /usr/local/lib/python3.6/dist-packages (from scikit-learn>=0.20->eli5) (1.0.0)\n",
            "Requirement already satisfied: MarkupSafe>=0.23 in /usr/local/lib/python3.6/dist-packages (from jinja2->eli5) (1.1.1)\n",
            "Installing collected packages: eli5\n",
            "Successfully installed eli5-0.11.0\n"
          ],
          "name": "stdout"
        },
        {
          "output_type": "stream",
          "text": [
            "/usr/local/lib/python3.6/dist-packages/sklearn/utils/deprecation.py:144: FutureWarning: The sklearn.feature_selection.base module is  deprecated in version 0.22 and will be removed in version 0.24. The corresponding classes / functions should instead be imported from sklearn.feature_selection. Anything that cannot be imported from sklearn.feature_selection is now part of the private API.\n",
            "  warnings.warn(message, FutureWarning)\n"
          ],
          "name": "stderr"
        }
      ]
    },
    {
      "cell_type": "code",
      "metadata": {
        "colab": {
          "base_uri": "https://localhost:8080/"
        },
        "id": "vy_5-DfWH1K0",
        "outputId": "5fc609ff-0af9-4efb-8582-26028637d007"
      },
      "source": [
        "early_stopping = tf.keras.callbacks.EarlyStopping(monitor = \"val_loss\", patience = 15, mode='min')\r\n",
        "model.compile(loss='mean_squared_error', optimizer = 'Adamax', metrics = ['mean_absolute_error'])\r\n",
        "history = model.fit(train_generator, epochs=3, \r\n",
        "                              validation_data = test_generator,\r\n",
        "                              shuffle=False)\r\n",
        "#print(history.history.keys())\r\n"
      ],
      "execution_count": 3,
      "outputs": [
        {
          "output_type": "stream",
          "text": [
            "Epoch 1/3\n",
            "187/187 [==============================] - 12s 15ms/step - loss: 3.6965e-04 - mean_absolute_error: 0.0105 - val_loss: 0.0098 - val_mean_absolute_error: 0.0553\n",
            "Epoch 2/3\n",
            "187/187 [==============================] - 2s 11ms/step - loss: 6.0540e-04 - mean_absolute_error: 0.0149 - val_loss: 0.0099 - val_mean_absolute_error: 0.0562\n",
            "Epoch 3/3\n",
            "187/187 [==============================] - 2s 10ms/step - loss: 5.3934e-04 - mean_absolute_error: 0.0142 - val_loss: 0.0095 - val_mean_absolute_error: 0.0558\n"
          ],
          "name": "stdout"
        }
      ]
    },
    {
      "cell_type": "code",
      "metadata": {
        "id": "auDPUFwvvQMp",
        "colab": {
          "base_uri": "https://localhost:8080/",
          "height": 1000
        },
        "outputId": "bf00e008-2fe9-42e9-9eb2-d97a81d5c531"
      },
      "source": [
        "plt.plot(history.history['loss'])\r\n",
        "plt.plot(history.history['val_loss'])\r\n",
        "plt.title('model accuracy')\r\n",
        "plt.ylabel('loss')\r\n",
        "plt.xlabel('epoch')\r\n",
        "plt.legend(['train', 'test'], loc='upper left')\r\n",
        "#plt.show()\r\n",
        "\r\n",
        "model.evaluate_generator(test_generator, verbose=0 )\r\n",
        "predictions = model.predict_generator(test_generator)\r\n",
        "predictions.shape[0]\r\n",
        "df_pred = pd.concat([pd.DataFrame(predictions), pd.DataFrame(x_test[:, 1:][win_length:])], axis = 1)\r\n",
        "rev_trans = scaler.inverse_transform(df_pred)\r\n",
        "df_final = df_countySeparated[predictions.shape[0]*-1:]\r\n",
        "print(df_final.count)\r\n",
        "df_final['Covid_Pred'] = rev_trans[:, 0]\r\n",
        "df_final\r\n",
        "df_final.reset_index(drop=True, inplace=True)\r\n",
        "df_final[['covidConfirmedCases_EWM','Covid_Pred']].plot()\r\n",
        "\r\n",
        "\r\n",
        "y_test = df_final.loc[:,'covidConfirmedCases_EWM']\r\n",
        "y_pred = df_final.loc[:,'Covid_Pred']\r\n",
        "\r\n",
        "from sklearn.metrics import r2_score\r\n",
        "# Model Accuracy, how often is the classifier correct?\r\n",
        "print(\"Accuracy:\",r2_score(y_test, y_pred))\r\n",
        "\r\n",
        "\r\n",
        "\"\"\"\r\n",
        "from google.colab import files\r\n",
        "files.download('rporgramLSTMResult.csv')\r\n",
        "\r\n",
        "df_final.to_csv(\"rporgramLSTMResult.csv\")\r\n",
        "\r\n",
        "\"\"\"\r\n"
      ],
      "execution_count": 5,
      "outputs": [
        {
          "output_type": "stream",
          "text": [
            "/usr/local/lib/python3.6/dist-packages/tensorflow/python/keras/engine/training.py:1877: UserWarning: `Model.evaluate_generator` is deprecated and will be removed in a future version. Please use `Model.evaluate`, which supports generators.\n",
            "  warnings.warn('`Model.evaluate_generator` is deprecated and '\n",
            "/usr/local/lib/python3.6/dist-packages/tensorflow/python/keras/engine/training.py:1905: UserWarning: `Model.predict_generator` is deprecated and will be removed in a future version. Please use `Model.predict`, which supports generators.\n",
            "  warnings.warn('`Model.predict_generator` is deprecated and '\n"
          ],
          "name": "stderr"
        },
        {
          "output_type": "stream",
          "text": [
            "<bound method DataFrame.count of        covidConfirmedCases_EWM    EP_POV  ...    NL_Lr     NL_Pe \n",
            "23938             31300.316779  0.957974  ...  0.434966  0.475689\n",
            "23939             30268.589564  0.963096  ...  0.548965  0.526659\n",
            "23940             29040.524684  0.957879  ...  0.554533  0.520687\n",
            "23941             27865.442043  0.961579  ...  0.427377  0.462667\n",
            "23942             26742.770940  0.963476  ...  0.429944  0.463448\n",
            "...                        ...       ...  ...       ...       ...\n",
            "34183            128984.573903  0.959112  ...  0.135771  0.040045\n",
            "34184            126161.938233  0.954464  ...  0.134808  0.090141\n",
            "34185            122720.512183  0.959586  ...  0.139878  0.020760\n",
            "34186            118533.225971  0.959492  ...  0.197327  0.025417\n",
            "34187            114252.522870  0.964235  ...  0.231130  0.033368\n",
            "\n",
            "[10250 rows x 25 columns]>\n",
            "Accuracy: -0.13283410283804753\n"
          ],
          "name": "stdout"
        },
        {
          "output_type": "stream",
          "text": [
            "/usr/local/lib/python3.6/dist-packages/ipykernel_launcher.py:16: SettingWithCopyWarning: \n",
            "A value is trying to be set on a copy of a slice from a DataFrame.\n",
            "Try using .loc[row_indexer,col_indexer] = value instead\n",
            "\n",
            "See the caveats in the documentation: https://pandas.pydata.org/pandas-docs/stable/user_guide/indexing.html#returning-a-view-versus-a-copy\n",
            "  app.launch_new_instance()\n"
          ],
          "name": "stderr"
        },
        {
          "output_type": "execute_result",
          "data": {
            "application/vnd.google.colaboratory.intrinsic+json": {
              "type": "string"
            },
            "text/plain": [
              "'\\nfrom google.colab import files\\nfiles.download(\\'rporgramLSTMResult.csv\\')\\n\\ndf_final.to_csv(\"rporgramLSTMResult.csv\")\\n\\n'"
            ]
          },
          "metadata": {
            "tags": []
          },
          "execution_count": 5
        },
        {
          "output_type": "display_data",
          "data": {
            "image/png": "[encoded data removed]",
            "text/plain": [
              "<Figure size 432x288 with 1 Axes>"
            ]
          },
          "metadata": {
            "tags": [],
            "needs_background": "light"
          }
        },
        {
          "output_type": "display_data",
          "data": {
            "image/png": "[encoded data removed]",
            "text/plain": [
              "<Figure size 432x288 with 1 Axes>"
            ]
          },
          "metadata": {
            "tags": [],
            "needs_background": "light"
          }
        }
      ]
    },
    {
      "cell_type": "code",
      "metadata": {
        "colab": {
          "base_uri": "https://localhost:8080/"
        },
        "id": "GCYLTcpsrIrL",
        "outputId": "e9e893bb-60e9-4619-9f11-bd269b9b7d68"
      },
      "source": [
        "!pip install shap"
      ],
      "execution_count": 6,
      "outputs": [
        {
          "output_type": "stream",
          "text": [
            "Collecting shap\n",
            "\u001b[?25l  Downloading https://files.pythonhosted.org/packages/44/20/54381999efe3000f70a7f68af79ba857cfa3f82278ab0e02e6ba1c06b002/shap-0.38.1.tar.gz (352kB)\n",
            "\r\u001b[K     |█                               | 10kB 27.6MB/s eta 0:00:01\r\u001b[K     |█▉                              | 20kB 30.1MB/s eta 0:00:01\r\u001b[K     |██▉                             | 30kB 19.1MB/s eta 0:00:01\r\u001b[K     |███▊                            | 40kB 19.5MB/s eta 0:00:01\r\u001b[K     |████▋                           | 51kB 20.1MB/s eta 0:00:01\r\u001b[K     |█████▋                          | 61kB 15.7MB/s eta 0:00:01\r\u001b[K     |██████▌                         | 71kB 16.1MB/s eta 0:00:01\r\u001b[K     |███████▍                        | 81kB 16.8MB/s eta 0:00:01\r\u001b[K     |████████▍                       | 92kB 15.0MB/s eta 0:00:01\r\u001b[K     |█████████▎                      | 102kB 16.1MB/s eta 0:00:01\r\u001b[K     |██████████▎                     | 112kB 16.1MB/s eta 0:00:01\r\u001b[K     |███████████▏                    | 122kB 16.1MB/s eta 0:00:01\r\u001b[K     |████████████                    | 133kB 16.1MB/s eta 0:00:01\r\u001b[K     |█████████████                   | 143kB 16.1MB/s eta 0:00:01\r\u001b[K     |██████████████                  | 153kB 16.1MB/s eta 0:00:01\r\u001b[K     |██████████████▉                 | 163kB 16.1MB/s eta 0:00:01\r\u001b[K     |███████████████▉                | 174kB 16.1MB/s eta 0:00:01\r\u001b[K     |████████████████▊               | 184kB 16.1MB/s eta 0:00:01\r\u001b[K     |█████████████████▊              | 194kB 16.1MB/s eta 0:00:01\r\u001b[K     |██████████████████▋             | 204kB 16.1MB/s eta 0:00:01\r\u001b[K     |███████████████████▌            | 215kB 16.1MB/s eta 0:00:01\r\u001b[K     |████████████████████▌           | 225kB 16.1MB/s eta 0:00:01\r\u001b[K     |█████████████████████▍          | 235kB 16.1MB/s eta 0:00:01\r\u001b[K     |██████████████████████▎         | 245kB 16.1MB/s eta 0:00:01\r\u001b[K     |███████████████████████▎        | 256kB 16.1MB/s eta 0:00:01\r\u001b[K     |████████████████████████▏       | 266kB 16.1MB/s eta 0:00:01\r\u001b[K     |█████████████████████████       | 276kB 16.1MB/s eta 0:00:01\r\u001b[K     |██████████████████████████      | 286kB 16.1MB/s eta 0:00:01\r\u001b[K     |███████████████████████████     | 296kB 16.1MB/s eta 0:00:01\r\u001b[K     |████████████████████████████    | 307kB 16.1MB/s eta 0:00:01\r\u001b[K     |████████████████████████████▉   | 317kB 16.1MB/s eta 0:00:01\r\u001b[K     |█████████████████████████████▊  | 327kB 16.1MB/s eta 0:00:01\r\u001b[K     |██████████████████████████████▊ | 337kB 16.1MB/s eta 0:00:01\r\u001b[K     |███████████████████████████████▋| 348kB 16.1MB/s eta 0:00:01\r\u001b[K     |████████████████████████████████| 358kB 16.1MB/s \n",
            "\u001b[?25hRequirement already satisfied: numpy in /usr/local/lib/python3.6/dist-packages (from shap) (1.19.5)\n",
            "Requirement already satisfied: scipy in /usr/local/lib/python3.6/dist-packages (from shap) (1.4.1)\n",
            "Requirement already satisfied: scikit-learn in /usr/local/lib/python3.6/dist-packages (from shap) (0.22.2.post1)\n",
            "Requirement already satisfied: pandas in /usr/local/lib/python3.6/dist-packages (from shap) (1.1.5)\n",
            "Requirement already satisfied: tqdm>4.25.0 in /usr/local/lib/python3.6/dist-packages (from shap) (4.41.1)\n",
            "Collecting slicer==0.0.7\n",
            "  Downloading https://files.pythonhosted.org/packages/78/c2/b3f55dfdb8af9812fdb9baf70cacf3b9e82e505b2bd4324d588888b81202/slicer-0.0.7-py3-none-any.whl\n",
            "Requirement already satisfied: numba in /usr/local/lib/python3.6/dist-packages (from shap) (0.51.2)\n",
            "Requirement already satisfied: cloudpickle in /usr/local/lib/python3.6/dist-packages (from shap) (1.3.0)\n",
            "Requirement already satisfied: joblib>=0.11 in /usr/local/lib/python3.6/dist-packages (from scikit-learn->shap) (1.0.0)\n",
            "Requirement already satisfied: python-dateutil>=2.7.3 in /usr/local/lib/python3.6/dist-packages (from pandas->shap) (2.8.1)\n",
            "Requirement already satisfied: pytz>=2017.2 in /usr/local/lib/python3.6/dist-packages (from pandas->shap) (2018.9)\n",
            "Requirement already satisfied: setuptools in /usr/local/lib/python3.6/dist-packages (from numba->shap) (51.3.3)\n",
            "Requirement already satisfied: llvmlite<0.35,>=0.34.0.dev0 in /usr/local/lib/python3.6/dist-packages (from numba->shap) (0.34.0)\n",
            "Requirement already satisfied: six>=1.5 in /usr/local/lib/python3.6/dist-packages (from python-dateutil>=2.7.3->pandas->shap) (1.15.0)\n",
            "Building wheels for collected packages: shap\n",
            "  Building wheel for shap (setup.py) ... \u001b[?25l\u001b[?25hdone\n",
            "  Created wheel for shap: filename=shap-0.38.1-cp36-cp36m-linux_x86_64.whl size=489392 sha256=499eae3d991e0cf0f6efdee474d4c6fd8db1fc4c81afbe094353ab0147e3f4a6\n",
            "  Stored in directory: /root/.cache/pip/wheels/a8/fb/e4/88012be41842b9be62ae18d82d1b1e880daf8539d1fef1fa00\n",
            "Successfully built shap\n",
            "Installing collected packages: slicer, shap\n",
            "Successfully installed shap-0.38.1 slicer-0.0.7\n"
          ],
          "name": "stdout"
        }
      ]
    },
    {
      "cell_type": "code",
      "metadata": {
        "id": "19xoUo8rrJcI"
      },
      "source": [
        "import shap"
      ],
      "execution_count": 7,
      "outputs": []
    },
    {
      "cell_type": "code",
      "metadata": {
        "colab": {
          "base_uri": "https://localhost:8080/",
          "height": 337
        },
        "id": "Kqlk_uXbrMcA",
        "outputId": "ed40f6bf-34b4-48f6-e05e-721990f97a3f"
      },
      "source": [
        "e = shap.DeepExplainer((model.layers[0].input, model.layers[-1].output),train_generator)"
      ],
      "execution_count": 8,
      "outputs": [
        {
          "output_type": "stream",
          "text": [
            "keras is no longer supported, please use tf.keras instead.\n",
            "Your TensorFlow version is newer than 2.4.0 and so graph support has been removed in eager mode. See PR #1483 for discussion.\n"
          ],
          "name": "stderr"
        },
        {
          "output_type": "error",
          "ename": "AttributeError",
          "evalue": "ignored",
          "traceback": [
            "\u001b[0;31m---------------------------------------------------------------------------\u001b[0m",
            "\u001b[0;31mAttributeError\u001b[0m                            Traceback (most recent call last)",
            "\u001b[0;32m<ipython-input-8-74ebb2468f63>\u001b[0m in \u001b[0;36m<module>\u001b[0;34m()\u001b[0m\n\u001b[0;32m----> 1\u001b[0;31m \u001b[0me\u001b[0m \u001b[0;34m=\u001b[0m \u001b[0mshap\u001b[0m\u001b[0;34m.\u001b[0m\u001b[0mDeepExplainer\u001b[0m\u001b[0;34m(\u001b[0m\u001b[0;34m(\u001b[0m\u001b[0mmodel\u001b[0m\u001b[0;34m.\u001b[0m\u001b[0mlayers\u001b[0m\u001b[0;34m[\u001b[0m\u001b[0;36m0\u001b[0m\u001b[0;34m]\u001b[0m\u001b[0;34m.\u001b[0m\u001b[0minput\u001b[0m\u001b[0;34m,\u001b[0m \u001b[0mmodel\u001b[0m\u001b[0;34m.\u001b[0m\u001b[0mlayers\u001b[0m\u001b[0;34m[\u001b[0m\u001b[0;34m-\u001b[0m\u001b[0;36m1\u001b[0m\u001b[0;34m]\u001b[0m\u001b[0;34m.\u001b[0m\u001b[0moutput\u001b[0m\u001b[0;34m)\u001b[0m\u001b[0;34m,\u001b[0m\u001b[0mtrain_generator\u001b[0m\u001b[0;34m)\u001b[0m\u001b[0;34m\u001b[0m\u001b[0;34m\u001b[0m\u001b[0m\n\u001b[0m",
            "\u001b[0;32m/usr/local/lib/python3.6/dist-packages/shap/explainers/_deep/__init__.py\u001b[0m in \u001b[0;36m__init__\u001b[0;34m(self, model, data, session, learning_phase_flags)\u001b[0m\n\u001b[1;32m     82\u001b[0m \u001b[0;34m\u001b[0m\u001b[0m\n\u001b[1;32m     83\u001b[0m         \u001b[0;32mif\u001b[0m \u001b[0mframework\u001b[0m \u001b[0;34m==\u001b[0m \u001b[0;34m'tensorflow'\u001b[0m\u001b[0;34m:\u001b[0m\u001b[0;34m\u001b[0m\u001b[0;34m\u001b[0m\u001b[0m\n\u001b[0;32m---> 84\u001b[0;31m             \u001b[0mself\u001b[0m\u001b[0;34m.\u001b[0m\u001b[0mexplainer\u001b[0m \u001b[0;34m=\u001b[0m \u001b[0mTFDeep\u001b[0m\u001b[0;34m(\u001b[0m\u001b[0mmodel\u001b[0m\u001b[0;34m,\u001b[0m \u001b[0mdata\u001b[0m\u001b[0;34m,\u001b[0m \u001b[0msession\u001b[0m\u001b[0;34m,\u001b[0m \u001b[0mlearning_phase_flags\u001b[0m\u001b[0;34m)\u001b[0m\u001b[0;34m\u001b[0m\u001b[0;34m\u001b[0m\u001b[0m\n\u001b[0m\u001b[1;32m     85\u001b[0m         \u001b[0;32melif\u001b[0m \u001b[0mframework\u001b[0m \u001b[0;34m==\u001b[0m \u001b[0;34m'pytorch'\u001b[0m\u001b[0;34m:\u001b[0m\u001b[0;34m\u001b[0m\u001b[0;34m\u001b[0m\u001b[0m\n\u001b[1;32m     86\u001b[0m             \u001b[0mself\u001b[0m\u001b[0;34m.\u001b[0m\u001b[0mexplainer\u001b[0m \u001b[0;34m=\u001b[0m \u001b[0mPyTorchDeep\u001b[0m\u001b[0;34m(\u001b[0m\u001b[0mmodel\u001b[0m\u001b[0;34m,\u001b[0m \u001b[0mdata\u001b[0m\u001b[0;34m)\u001b[0m\u001b[0;34m\u001b[0m\u001b[0;34m\u001b[0m\u001b[0m\n",
            "\u001b[0;32m/usr/local/lib/python3.6/dist-packages/shap/explainers/_deep/deep_tf.py\u001b[0m in \u001b[0;36m__init__\u001b[0;34m(self, model, data, session, learning_phase_flags)\u001b[0m\n\u001b[1;32m    129\u001b[0m             \u001b[0mself\u001b[0m\u001b[0;34m.\u001b[0m\u001b[0msession\u001b[0m \u001b[0;34m=\u001b[0m \u001b[0m_get_session\u001b[0m\u001b[0;34m(\u001b[0m\u001b[0msession\u001b[0m\u001b[0;34m)\u001b[0m\u001b[0;34m\u001b[0m\u001b[0;34m\u001b[0m\u001b[0m\n\u001b[1;32m    130\u001b[0m \u001b[0;34m\u001b[0m\u001b[0m\n\u001b[0;32m--> 131\u001b[0;31m         \u001b[0mself\u001b[0m\u001b[0;34m.\u001b[0m\u001b[0mgraph\u001b[0m \u001b[0;34m=\u001b[0m \u001b[0m_get_graph\u001b[0m\u001b[0;34m(\u001b[0m\u001b[0mself\u001b[0m\u001b[0;34m)\u001b[0m\u001b[0;34m\u001b[0m\u001b[0;34m\u001b[0m\u001b[0m\n\u001b[0m\u001b[1;32m    132\u001b[0m \u001b[0;34m\u001b[0m\u001b[0m\n\u001b[1;32m    133\u001b[0m         \u001b[0;31m# if no learning phase flags were given we go looking for them\u001b[0m\u001b[0;34m\u001b[0m\u001b[0;34m\u001b[0m\u001b[0;34m\u001b[0m\u001b[0m\n",
            "\u001b[0;32m/usr/local/lib/python3.6/dist-packages/shap/explainers/tf_utils.py\u001b[0m in \u001b[0;36m_get_graph\u001b[0;34m(explainer)\u001b[0m\n\u001b[1;32m     44\u001b[0m         \u001b[0;32mreturn\u001b[0m \u001b[0mexplainer\u001b[0m\u001b[0;34m.\u001b[0m\u001b[0msession\u001b[0m\u001b[0;34m.\u001b[0m\u001b[0mgraph\u001b[0m\u001b[0;34m\u001b[0m\u001b[0;34m\u001b[0m\u001b[0m\n\u001b[1;32m     45\u001b[0m     \u001b[0;32melse\u001b[0m\u001b[0;34m:\u001b[0m\u001b[0;34m\u001b[0m\u001b[0;34m\u001b[0m\u001b[0m\n\u001b[0;32m---> 46\u001b[0;31m         \u001b[0;32mreturn\u001b[0m \u001b[0mexplainer\u001b[0m\u001b[0;34m.\u001b[0m\u001b[0mmodel_output\u001b[0m\u001b[0;34m.\u001b[0m\u001b[0mgraph\u001b[0m\u001b[0;34m\u001b[0m\u001b[0;34m\u001b[0m\u001b[0m\n\u001b[0m\u001b[1;32m     47\u001b[0m \u001b[0;34m\u001b[0m\u001b[0m\n\u001b[1;32m     48\u001b[0m \u001b[0;32mdef\u001b[0m \u001b[0m_get_model_inputs\u001b[0m\u001b[0;34m(\u001b[0m\u001b[0mmodel\u001b[0m\u001b[0;34m)\u001b[0m\u001b[0;34m:\u001b[0m\u001b[0;34m\u001b[0m\u001b[0;34m\u001b[0m\u001b[0m\n",
            "\u001b[0;31mAttributeError\u001b[0m: 'KerasTensor' object has no attribute 'graph'"
          ]
        }
      ]
    },
    {
      "cell_type": "code",
      "metadata": {
        "colab": {
          "base_uri": "https://localhost:8080/"
        },
        "id": "gNvwrLMkrrlx",
        "outputId": "78cec3ee-e540-46e3-db1f-03b29b9b6854"
      },
      "source": [
        "print(shap.__version__)"
      ],
      "execution_count": 10,
      "outputs": [
        {
          "output_type": "stream",
          "text": [
            "0.38.1\n"
          ],
          "name": "stdout"
        }
      ]
    },
    {
      "cell_type": "code",
      "metadata": {
        "id": "8xhku4L3rr9B"
      },
      "source": [
        ""
      ],
      "execution_count": null,
      "outputs": []
    }
  ]
}